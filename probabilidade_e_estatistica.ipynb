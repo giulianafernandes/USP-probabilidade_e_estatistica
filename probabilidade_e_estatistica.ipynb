{
 "cells": [
  {
   "cell_type": "markdown",
   "metadata": {},
   "source": [
    "# Aula 1"
   ]
  },
  {
   "cell_type": "markdown",
   "metadata": {},
   "source": [
    "### Introdução à teoria das probabilidades"
   ]
  },
  {
   "cell_type": "markdown",
   "metadata": {},
   "source": [
    "### Teoria dos conjuntos:\n",
    "• união - A ∪ B  \n",
    "• intersecção - A ∩ B  \n",
    "• complementar de B - Bc\n",
    "\n",
    "\n",
    "exemplo:  \n",
    "X = {10,20,30}, Y = {5,10,15,20}  \n",
    "\n",
    "calcule:  \n",
    "A ∪ B = {5,10,15,20,30}  \n",
    "A ∩ B = {10,20}  \n",
    "Bc = {5,15}"
   ]
  },
  {
   "cell_type": "markdown",
   "metadata": {},
   "source": [
    "### Experimento Aleatório \n",
    "É um experimento que pode ser repetido inúmeras vezes sob as mesmas condições, sendo o seu resultado incerto.  \n",
    "• lançar de dados, moedas  \n",
    "\n",
    "-> Não é possível saber qual será o próximo valor, mas podemos determinar a probabilidade de cada resultado possível"
   ]
  },
  {
   "cell_type": "code",
   "execution_count": 1,
   "metadata": {},
   "outputs": [
    {
     "name": "stdout",
     "output_type": "stream",
     "text": [
      "['cara', 'coroa', 'cara', 'cara', 'cara', 'cara', 'coroa', 'cara', 'cara', 'cara']\n"
     ]
    }
   ],
   "source": [
    "import numpy as np\n",
    "\n",
    "moeda = ['cara', 'coroa']\n",
    "lista = []\n",
    "for i in range(0, 10):\n",
    "    saida = np.random.choice(moeda)\n",
    "    lista.append(saida)\n",
    "\n",
    "print(lista)"
   ]
  },
  {
   "cell_type": "markdown",
   "metadata": {},
   "source": [
    "### Definições\n",
    "• Espaço amostral(Ω): representa o conjunto de todas as saídas possíveis de um experimento aleatório.  \n",
    "• Evento(A): é um elemento do espaço amostral.  \n",
    "• Evento impossível(0): é o evento que nunca ocorre.  \n",
    "• Evento certo(): é o evento que irá acontecer com certeza. "
   ]
  },
  {
   "cell_type": "markdown",
   "metadata": {},
   "source": [
    "### Relação entre eventos: \n",
    "A ∪ B = é o evento que ocorre se A ou B (ou ambos) ocorrem.  \n",
    "A ∩ B = é o evento que ocorre se, e somente se, A e B ocorrem.  \n",
    "A - Ac = é o evento que ocorre se A não ocorre.  "
   ]
  },
  {
   "cell_type": "markdown",
   "metadata": {},
   "source": [
    "<img src=\"imgs/Captura de Tela 2025-01-28 às 16.09.35.png\" alt=\"teoria dos conjuntos\" />"
   ]
  },
  {
   "cell_type": "markdown",
   "metadata": {},
   "source": [
    "### Axiomas da probabilidade\n",
    "\n",
    "• Definição: sejam Ω o espaço amostral e A um evento em Ω.  \n",
    "Então, uma função P(.) é denominada probabilidade se satisfaz:  \n",
    "->>> 0 < P(A) < 1 - quanto mais próximo de 1, maior probabilidade de que o evento ocorra  \n",
    "\n",
    "---\n",
    "\n",
    "### Probabilidade clássica\n",
    "• Definição: se um experimento aleatório tiver n(Ω) resultados mutualmente exclusivos e igualmente possíveis, e se um evento A conter n(A) desses resultados, a probabilidade de ocorrência desse evento é definida por:  \n",
    "\n",
    "\n",
    "$$P(A) = \\dfrac{n(A)}{n(\\omega)} = \\dfrac{|A|}{|\\omega|}$$\n",
    "\n",
    "Definição por Jacob Bernoulli e Laplace"
   ]
  },
  {
   "cell_type": "markdown",
   "metadata": {},
   "source": [
    "• exemplo: Imagine uma urna com 5 bolas brancas e 3 pretas. Qual é a probabilidade de retirar uma bola branca?\n",
    "\n",
    "$$P(A) = \\dfrac{bolas brancas}{\\omega} = \\dfrac{5}{8} = 0.62$$\n",
    "\n",
    "\n",
    "\\\n",
    "• exemplo: Uma urna contém fichas numeradas de 1 a 20. Supondo que alguém escolha uma dessas fichas ao acaso, qual a probabilidade de que a ficha escolhida contenha um número maior que 9?"
   ]
  },
  {
   "cell_type": "code",
   "execution_count": 2,
   "metadata": {},
   "outputs": [
    {
     "name": "stdout",
     "output_type": "stream",
     "text": [
      "Probabilidade de 0.55% do valor da ficha ser maior do que 9\n"
     ]
    }
   ],
   "source": [
    "espaco_amostral = 20\n",
    "maior_que_9 = [10,11,12,13,14,15,16,17,18,19,20]\n",
    "qtd_maior_9 = len(maior_que_9)\n",
    "\n",
    "print(f\"Probabilidade de {qtd_maior_9/espaco_amostral}% do valor da ficha ser maior do que 9\")"
   ]
  },
  {
   "cell_type": "markdown",
   "metadata": {},
   "source": [
    "### Probabilidade frequentista\n",
    "• Definição: A probabilidade de um evento é igual à sua frequência de ocorrência em um grande número de experimentos. Sendo que nA é o número de vezes que o evento A ocorre em n experimentos.\n",
    "\n",
    "$$P(A) = \\dfrac{lim}{n\\rightarrow\\infty} = \\dfrac{nA}{n}$$\n",
    "\n",
    "\n",
    "Considerando o lançamento de uma moeda justa:"
   ]
  },
  {
   "cell_type": "code",
   "execution_count": 3,
   "metadata": {},
   "outputs": [
    {
     "name": "stdout",
     "output_type": "stream",
     "text": [
      "Probabilidade = 0.51%\n"
     ]
    }
   ],
   "source": [
    "ns = 1000 # n de lançamentos\n",
    "moeda = ['cara', 'coroa']\n",
    "nc = 0\n",
    "\n",
    "for i in range(0,ns):\n",
    "    saida = np.random.choice(moeda)\n",
    "    if saida == 'cara':\n",
    "        nc = nc + 1\n",
    "\n",
    "print(f\"Probabilidade = {(nc/ns):.2f}%\")"
   ]
  },
  {
   "cell_type": "markdown",
   "metadata": {},
   "source": [
    "• Problema proposto por Bernoulli.  \n",
    "Uma urna contém 3.000 bolas brancas e 2.000 bolas pretas. calcule a probabilidade de retirar uma bola preta da urna."
   ]
  },
  {
   "cell_type": "code",
   "execution_count": 4,
   "metadata": {},
   "outputs": [
    {
     "name": "stdout",
     "output_type": "stream",
     "text": [
      "A probabilidade de retirar uma bola preta é de 0.4%\n"
     ]
    }
   ],
   "source": [
    "# probabilidade classica\n",
    "\n",
    "brancas = 3000\n",
    "pretas = 2000\n",
    "espaco_amostral = brancas + pretas\n",
    "\n",
    "print(f\"A probabilidade de retirar uma bola preta é de {pretas/espaco_amostral}%\")"
   ]
  },
  {
   "cell_type": "code",
   "execution_count": 5,
   "metadata": {},
   "outputs": [
    {
     "name": "stdout",
     "output_type": "stream",
     "text": [
      "A frequência de bolas pretas é de 0.35%\n"
     ]
    }
   ],
   "source": [
    "# probabilidade frequentista\n",
    "\n",
    "urna = ['B'] * 3000 + ['P'] * 2000\n",
    "n_retiradas = 100\n",
    "f_pretas = 0\n",
    "\n",
    "for i in range(0, n_retiradas):\n",
    "    bola = np.random.choice(urna)\n",
    "    if bola == 'P':\n",
    "        f_pretas = f_pretas + 1\n",
    "\n",
    "print(f'A frequência de bolas pretas é de {f_pretas/n_retiradas}%')"
   ]
  },
  {
   "cell_type": "markdown",
   "metadata": {},
   "source": [
    "### Probabilidade da união de dois eventos\n",
    "Para dois eventos A e B em um mesmo espaço amostral \n",
    "$$ P(A \\cup B) = P(A) + P(B) - P (A \\cap B) $$\n",
    "\n",
    "Em uma escola particular, dentre todos os alunos que procuram ajuda, 63% precisan de aulas de reforço em matemática, 34% precisam de ajuda em inglês e 27% precisam de aulas adicionais tanto em matemática quanto em inglês.  \n",
    "Qual é a percentagem de alunos que precisam de ajuda em matemática ou ingles(ou em ambas as disciplinas)?\n",
    "\n",
    "A = precisam de ajuda em matemática  \n",
    "B = precisam de ajuda em inglês  \n",
    "P(A u B) = P(A) + P(B) - P(A ∩ B) = 0,63 + 0,34 - 0,27 = 0.70%\n",
    "\n",
    "\n",
    "---"
   ]
  },
  {
   "cell_type": "markdown",
   "metadata": {},
   "source": [
    "### Exercícios"
   ]
  },
  {
   "cell_type": "markdown",
   "metadata": {},
   "source": [
    "1 - Em uma sala, há 30 estudantes, dos quais:  \n",
    "• 18 gostam de matemática;  \n",
    "• 12 gostam de física;  \n",
    "• 8 gostam de ambas as disciplinas.  \n",
    "Um estudante é escolhido ao acaso. Determine:  \n",
    "a) A probabilidade de que o estudante goste de pelo menos uma das disciplinas (matemática ou física).  \n",
    "b) A probabilidade de que o estudante goste apenas de matemática.  \n",
    "c) A probabilidade de que o estudante não goste de nenhuma das disciplinas.  "
   ]
  },
  {
   "cell_type": "code",
   "execution_count": 6,
   "metadata": {},
   "outputs": [
    {
     "name": "stdout",
     "output_type": "stream",
     "text": [
      "A probabilidade de gostar de pelo menos uma das disciplinas:\n",
      "P(MUF) = 0.73\n"
     ]
    }
   ],
   "source": [
    "estudantes = 30\n",
    "m = 18\n",
    "f = 12\n",
    "u = 8\n",
    "\n",
    "print(\"A probabilidade de gostar de pelo menos uma das disciplinas:\")\n",
    "print(f\"P(MUF) = {(m/estudantes) + (f/estudantes) - (u/estudantes):.2f}\")"
   ]
  },
  {
   "cell_type": "code",
   "execution_count": 7,
   "metadata": {},
   "outputs": [
    {
     "name": "stdout",
     "output_type": "stream",
     "text": [
      "A probabilidade de gostar apenas de matemática:\n",
      "|M\\F| = 0.33\n"
     ]
    }
   ],
   "source": [
    "print(\"A probabilidade de gostar apenas de matemática:\")\n",
    "print(f\"|M\\\\F| = {(m - (u)) / estudantes:.2f}\")"
   ]
  },
  {
   "cell_type": "code",
   "execution_count": 8,
   "metadata": {},
   "outputs": [
    {
     "name": "stdout",
     "output_type": "stream",
     "text": [
      "A probabilidade de não gostar de nenhuma disciplina:\n",
      "0.27\n"
     ]
    }
   ],
   "source": [
    "print(\"A probabilidade de não gostar de nenhuma disciplina:\")\n",
    "print(f\"{u/estudantes:.2f}\")"
   ]
  },
  {
   "cell_type": "markdown",
   "metadata": {},
   "source": [
    "2 - Um dado justo e uma moeda honesta serão lançados simultaneamente. Considere o seguinte experimento:  \n",
    "• O dado possui 6 faces numeradas de 1 a 6.  \n",
    "• A moeda possui dois lados: cara (C) e coroa (K).  \n",
    "O espaço amostral do experimento é formado pelos pares ordenados (x, y), onde x é o resultado do dado e y é o  \n",
    "resultado da moeda. Sabendo que todos os eventos são igualmente prováveis, determine:  \n",
    "a) Qual é a probabilidade de que o resultado seja um número par no dado e coroa na moeda?  \n",
    "b) Qual é a probabilidade de que o resultado seja um número maior que 4 no dado ou cara na moeda?  \n",
    "c) Qual é a probabilidade de que o resultado seja um número ímpar no dado e cara na moeda?  "
   ]
  },
  {
   "cell_type": "code",
   "execution_count": 9,
   "metadata": {},
   "outputs": [],
   "source": [
    "espaco_amostral = [[1, \"C\"], [1, \"K\"],\n",
    "                   [2, \"C\"], [2, \"K\"],\n",
    "                   [3, \"C\"], [3, \"K\"],\n",
    "                   [4, \"C\"], [4, \"K\"],\n",
    "                   [5, \"C\"], [5, \"K\"],\n",
    "                   [6, \"C\"], [6, \"K\"]]\n",
    "\n",
    "tam_espaco_amostral = sum(1 for item in espaco_amostral if isinstance(item, list))"
   ]
  },
  {
   "cell_type": "code",
   "execution_count": 11,
   "metadata": {},
   "outputs": [
    {
     "name": "stdout",
     "output_type": "stream",
     "text": [
      "os números pares no dado e coroa são [2, K], [4, K], [6, K]\n",
      "então a probabilidade de o resultado seja um n par e coroa na moeda são 0.25%\n"
     ]
    }
   ],
   "source": [
    "print(\"os números pares no dado e coroa são [2, K], [4, K], [6, K]\")\n",
    "print(f\"então a probabilidade de o resultado seja um n par e coroa na moeda são {3/tam_espaco_amostral:.2f}%\")"
   ]
  },
  {
   "cell_type": "code",
   "execution_count": 28,
   "metadata": {},
   "outputs": [
    {
     "name": "stdout",
     "output_type": "stream",
     "text": [
      "os números maiores de 4 no dado são [[5, 'C'], [5, 'K'], [6, 'C'], [6, 'K']]\n",
      "e com resultado cara (qualquer número) [[1, 'C'], [2, 'C'], [3, 'C'], [4, 'C'], [5, 'C'], [6, 'C']]\n",
      "os pares [5, 'C'] e [6, 'C'] foram contados duas vezes, assim: 0.67%\n"
     ]
    }
   ],
   "source": [
    "print(f\"os números maiores de 4 no dado são {espaco_amostral[-4:]}\")\n",
    "print(f\"e com resultado cara (qualquer número) {espaco_amostral[0:13:2]}\")\n",
    "print(f\"os pares [5, 'C'] e [6, 'C'] foram contados duas vezes, assim: {(4+6-2) / tam_espaco_amostral:.2f}%\")"
   ]
  },
  {
   "cell_type": "code",
   "execution_count": 31,
   "metadata": {},
   "outputs": [
    {
     "name": "stdout",
     "output_type": "stream",
     "text": [
      "as ocorrencias de impares no dado e cara na moeda são [[1, 'C'], [3, 'C'], [5, 'C']]\n",
      "logo a ocorrencia é 3, e a probabilidade é 0.25%\n"
     ]
    }
   ],
   "source": [
    "print(f\"as ocorrencias de impares no dado e cara na moeda são {espaco_amostral[0:13:4]}\")\n",
    "print(f\"logo a ocorrencia é 3, e a probabilidade é {3/12:.2f}%\")"
   ]
  },
  {
   "cell_type": "markdown",
   "metadata": {},
   "source": [
    "# Aula 2"
   ]
  },
  {
   "cell_type": "code",
   "execution_count": null,
   "metadata": {},
   "outputs": [],
   "source": []
  }
 ],
 "metadata": {
  "kernelspec": {
   "display_name": "base",
   "language": "python",
   "name": "python3"
  },
  "language_info": {
   "codemirror_mode": {
    "name": "ipython",
    "version": 3
   },
   "file_extension": ".py",
   "mimetype": "text/x-python",
   "name": "python",
   "nbconvert_exporter": "python",
   "pygments_lexer": "ipython3",
   "version": "3.12.7"
  }
 },
 "nbformat": 4,
 "nbformat_minor": 2
}
